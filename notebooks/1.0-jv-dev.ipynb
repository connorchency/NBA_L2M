{
 "cells": [
  {
   "cell_type": "code",
   "execution_count": 1,
   "metadata": {
    "collapsed": false
   },
   "outputs": [],
   "source": [
    "import os\n",
    "import sqlite3\n",
    "import pandas as pd\n",
    "from fuzzywuzzy import process"
   ]
  },
  {
   "cell_type": "code",
   "execution_count": 2,
   "metadata": {
    "collapsed": true
   },
   "outputs": [],
   "source": [
    "conn = sqlite3.connect(\"../data/db/NBA-L2M.db\")\n",
    "c = conn.cursor()"
   ]
  },
  {
   "cell_type": "code",
   "execution_count": 3,
   "metadata": {
    "collapsed": false
   },
   "outputs": [
    {
     "data": {
      "text/html": [
       "<div>\n",
       "<table border=\"1\" class=\"dataframe\">\n",
       "  <thead>\n",
       "    <tr style=\"text-align: right;\">\n",
       "      <th></th>\n",
       "      <th>report</th>\n",
       "      <th>away</th>\n",
       "      <th>home</th>\n",
       "      <th>date</th>\n",
       "      <th>season</th>\n",
       "      <th>away_score</th>\n",
       "      <th>home_score</th>\n",
       "      <th>winner</th>\n",
       "    </tr>\n",
       "  </thead>\n",
       "  <tbody>\n",
       "    <tr>\n",
       "      <th>0</th>\n",
       "      <td>L2M-DEN-MIN-11-03-16</td>\n",
       "      <td>DEN</td>\n",
       "      <td>MIN</td>\n",
       "      <td>2016-11-02 00:00:00</td>\n",
       "      <td>2016-17 NBA Regular Season</td>\n",
       "      <td>NaN</td>\n",
       "      <td>NaN</td>\n",
       "      <td>NaN</td>\n",
       "    </tr>\n",
       "    <tr>\n",
       "      <th>1</th>\n",
       "      <td>L2M-DEN-MIN-11-03-16</td>\n",
       "      <td>DEN</td>\n",
       "      <td>MIN</td>\n",
       "      <td>2016-11-02 00:00:00</td>\n",
       "      <td>2016-17 NBA Regular Season</td>\n",
       "      <td>NaN</td>\n",
       "      <td>NaN</td>\n",
       "      <td>NaN</td>\n",
       "    </tr>\n",
       "  </tbody>\n",
       "</table>\n",
       "</div>"
      ],
      "text/plain": [
       "                 report away home                 date  \\\n",
       "0  L2M-DEN-MIN-11-03-16  DEN  MIN  2016-11-02 00:00:00   \n",
       "1  L2M-DEN-MIN-11-03-16  DEN  MIN  2016-11-02 00:00:00   \n",
       "\n",
       "                       season away_score home_score winner  \n",
       "0  2016-17 NBA Regular Season        NaN        NaN    NaN  \n",
       "1  2016-17 NBA Regular Season        NaN        NaN    NaN  "
      ]
     },
     "execution_count": 3,
     "metadata": {},
     "output_type": "execute_result"
    }
   ],
   "source": [
    "reports = pd.read_sql(\"SELECT * FROM reports\", conn)\n",
    "reports.replace({'away':{'PHO': 'PHX'}})\n",
    "reports.head(2)"
   ]
  },
  {
   "cell_type": "code",
   "execution_count": 4,
   "metadata": {
    "collapsed": false
   },
   "outputs": [
    {
     "data": {
      "text/html": [
       "<div>\n",
       "<table border=\"1\" class=\"dataframe\">\n",
       "  <thead>\n",
       "    <tr style=\"text-align: right;\">\n",
       "      <th></th>\n",
       "      <th>report</th>\n",
       "      <th>period</th>\n",
       "      <th>time</th>\n",
       "      <th>call</th>\n",
       "      <th>committing</th>\n",
       "      <th>disadvantaged</th>\n",
       "      <th>decision</th>\n",
       "      <th>committing_team</th>\n",
       "      <th>disadvantaged_team</th>\n",
       "    </tr>\n",
       "  </thead>\n",
       "  <tbody>\n",
       "    <tr>\n",
       "      <th>0</th>\n",
       "      <td>L2M-DEN-MIN-11-03-16</td>\n",
       "      <td>Period</td>\n",
       "      <td>Time</td>\n",
       "      <td>Call Type</td>\n",
       "      <td>Committing Player</td>\n",
       "      <td>Disadvantaged Player</td>\n",
       "      <td>Review Decision</td>\n",
       "      <td>NaN</td>\n",
       "      <td>MIN</td>\n",
       "    </tr>\n",
       "    <tr>\n",
       "      <th>1</th>\n",
       "      <td>L2M-DEN-MIN-11-03-16</td>\n",
       "      <td></td>\n",
       "      <td></td>\n",
       "      <td></td>\n",
       "      <td></td>\n",
       "      <td></td>\n",
       "      <td></td>\n",
       "      <td>NaN</td>\n",
       "      <td>NaN</td>\n",
       "    </tr>\n",
       "  </tbody>\n",
       "</table>\n",
       "</div>"
      ],
      "text/plain": [
       "                 report  period  time       call         committing  \\\n",
       "0  L2M-DEN-MIN-11-03-16  Period  Time  Call Type  Committing Player   \n",
       "1  L2M-DEN-MIN-11-03-16                                               \n",
       "\n",
       "          disadvantaged         decision committing_team disadvantaged_team  \n",
       "0  Disadvantaged Player  Review Decision             NaN                MIN  \n",
       "1                                                    NaN                NaN  "
      ]
     },
     "execution_count": 4,
     "metadata": {},
     "output_type": "execute_result"
    }
   ],
   "source": [
    "calls = pd.read_sql(\"SELECT * FROM calls\", conn)\n",
    "calls.head(2)"
   ]
  },
  {
   "cell_type": "code",
   "execution_count": 7,
   "metadata": {
    "collapsed": false
   },
   "outputs": [
    {
     "data": {
      "text/html": [
       "<div>\n",
       "<table border=\"1\" class=\"dataframe\">\n",
       "  <thead>\n",
       "    <tr style=\"text-align: right;\">\n",
       "      <th></th>\n",
       "      <th>Date</th>\n",
       "      <th>Start (ET)</th>\n",
       "      <th>Visitor/Neutral</th>\n",
       "      <th>PTS</th>\n",
       "      <th>Home/Neutral</th>\n",
       "      <th>PTS.1</th>\n",
       "      <th>Unnamed: 6</th>\n",
       "      <th>Unnamed: 7</th>\n",
       "      <th>Notes</th>\n",
       "    </tr>\n",
       "  </thead>\n",
       "  <tbody>\n",
       "    <tr>\n",
       "      <th>0</th>\n",
       "      <td>Thu Jun 1 2017</td>\n",
       "      <td>9:00 pm</td>\n",
       "      <td>Cleveland Cavaliers</td>\n",
       "      <td>91</td>\n",
       "      <td>Golden State Warriors</td>\n",
       "      <td>113</td>\n",
       "      <td>Box Score</td>\n",
       "      <td>None</td>\n",
       "      <td>None</td>\n",
       "    </tr>\n",
       "    <tr>\n",
       "      <th>1</th>\n",
       "      <td>Sun Jun 4 2017</td>\n",
       "      <td>8:00 pm</td>\n",
       "      <td>Cleveland Cavaliers</td>\n",
       "      <td>113</td>\n",
       "      <td>Golden State Warriors</td>\n",
       "      <td>132</td>\n",
       "      <td>Box Score</td>\n",
       "      <td>None</td>\n",
       "      <td>None</td>\n",
       "    </tr>\n",
       "    <tr>\n",
       "      <th>2</th>\n",
       "      <td>Wed Jun 7 2017</td>\n",
       "      <td>9:00 pm</td>\n",
       "      <td>Golden State Warriors</td>\n",
       "      <td>118</td>\n",
       "      <td>Cleveland Cavaliers</td>\n",
       "      <td>113</td>\n",
       "      <td>Box Score</td>\n",
       "      <td>None</td>\n",
       "      <td>None</td>\n",
       "    </tr>\n",
       "    <tr>\n",
       "      <th>3</th>\n",
       "      <td>Fri Jun 9 2017</td>\n",
       "      <td>9:00 pm</td>\n",
       "      <td>Golden State Warriors</td>\n",
       "      <td>116</td>\n",
       "      <td>Cleveland Cavaliers</td>\n",
       "      <td>137</td>\n",
       "      <td>Box Score</td>\n",
       "      <td>None</td>\n",
       "      <td>None</td>\n",
       "    </tr>\n",
       "    <tr>\n",
       "      <th>4</th>\n",
       "      <td>Mon Jun 12 2017</td>\n",
       "      <td>9:00 pm</td>\n",
       "      <td>Cleveland Cavaliers</td>\n",
       "      <td>120</td>\n",
       "      <td>Golden State Warriors</td>\n",
       "      <td>129</td>\n",
       "      <td>Box Score</td>\n",
       "      <td>None</td>\n",
       "      <td>None</td>\n",
       "    </tr>\n",
       "  </tbody>\n",
       "</table>\n",
       "</div>"
      ],
      "text/plain": [
       "              Date Start (ET)        Visitor/Neutral  PTS  \\\n",
       "0   Thu Jun 1 2017    9:00 pm    Cleveland Cavaliers   91   \n",
       "1   Sun Jun 4 2017    8:00 pm    Cleveland Cavaliers  113   \n",
       "2   Wed Jun 7 2017    9:00 pm  Golden State Warriors  118   \n",
       "3   Fri Jun 9 2017    9:00 pm  Golden State Warriors  116   \n",
       "4  Mon Jun 12 2017    9:00 pm    Cleveland Cavaliers  120   \n",
       "\n",
       "            Home/Neutral PTS.1 Unnamed: 6 Unnamed: 7 Notes  \n",
       "0  Golden State Warriors   113  Box Score       None  None  \n",
       "1  Golden State Warriors   132  Box Score       None  None  \n",
       "2    Cleveland Cavaliers   113  Box Score       None  None  \n",
       "3    Cleveland Cavaliers   137  Box Score       None  None  \n",
       "4  Golden State Warriors   129  Box Score       None  None  "
      ]
     },
     "execution_count": 7,
     "metadata": {},
     "output_type": "execute_result"
    }
   ],
   "source": [
    "gms = pd.read_sql(\"SELECT * FROM 'scheduled-gms'\", conn)\n",
    "gms.head()"
   ]
  },
  {
   "cell_type": "code",
   "execution_count": null,
   "metadata": {
    "collapsed": true
   },
   "outputs": [],
   "source": []
  }
 ],
 "metadata": {
  "kernelspec": {
   "display_name": "Python 2",
   "language": "python",
   "name": "python2"
  },
  "language_info": {
   "codemirror_mode": {
    "name": "ipython",
    "version": 2
   },
   "file_extension": ".py",
   "mimetype": "text/x-python",
   "name": "python",
   "nbconvert_exporter": "python",
   "pygments_lexer": "ipython2",
   "version": "2.7.12"
  }
 },
 "nbformat": 4,
 "nbformat_minor": 2
}
