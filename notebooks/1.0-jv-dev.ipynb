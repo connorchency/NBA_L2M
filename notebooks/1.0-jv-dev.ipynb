{
 "cells": [
  {
   "cell_type": "code",
   "execution_count": 1,
   "metadata": {
    "collapsed": false
   },
   "outputs": [],
   "source": [
    "import os\n",
    "import sqlite3\n",
    "import pandas as pd\n",
    "from datetime import datetime\n",
    "from fuzzywuzzy import process"
   ]
  },
  {
   "cell_type": "code",
   "execution_count": 2,
   "metadata": {
    "collapsed": true
   },
   "outputs": [],
   "source": [
    "conn = sqlite3.connect(\"../data/db/NBA-L2M.db\")\n",
    "c = conn.cursor()"
   ]
  },
  {
   "cell_type": "code",
   "execution_count": 8,
   "metadata": {
    "collapsed": false
   },
   "outputs": [
    {
     "name": "stdout",
     "output_type": "stream",
     "text": [
      "report                object\n",
      "away                  object\n",
      "home                  object\n",
      "date          datetime64[ns]\n",
      "season                object\n",
      "away_score           float64\n",
      "home_score           float64\n",
      "winner                object\n",
      "dtype: object \r\n"
     ]
    },
    {
     "data": {
      "text/html": [
       "<div>\n",
       "<table border=\"1\" class=\"dataframe\">\n",
       "  <thead>\n",
       "    <tr style=\"text-align: right;\">\n",
       "      <th></th>\n",
       "      <th>report</th>\n",
       "      <th>away</th>\n",
       "      <th>home</th>\n",
       "      <th>date</th>\n",
       "      <th>season</th>\n",
       "      <th>away_score</th>\n",
       "      <th>home_score</th>\n",
       "      <th>winner</th>\n",
       "    </tr>\n",
       "  </thead>\n",
       "  <tbody>\n",
       "    <tr>\n",
       "      <th>0</th>\n",
       "      <td>L2M-DEN-MIN-11-03-16</td>\n",
       "      <td>DEN</td>\n",
       "      <td>MIN</td>\n",
       "      <td>2016-11-03</td>\n",
       "      <td>2016-17 NBA Regular Season</td>\n",
       "      <td>102.0</td>\n",
       "      <td>99.0</td>\n",
       "      <td>DEN</td>\n",
       "    </tr>\n",
       "    <tr>\n",
       "      <th>1</th>\n",
       "      <td>L2M-SAC-CHI-01-21-17</td>\n",
       "      <td>SAC</td>\n",
       "      <td>CHI</td>\n",
       "      <td>2017-01-21</td>\n",
       "      <td>2016-17 NBA Regular Season</td>\n",
       "      <td>99.0</td>\n",
       "      <td>102.0</td>\n",
       "      <td>CHI</td>\n",
       "    </tr>\n",
       "  </tbody>\n",
       "</table>\n",
       "</div>"
      ],
      "text/plain": [
       "                 report away home       date                      season  \\\n",
       "0  L2M-DEN-MIN-11-03-16  DEN  MIN 2016-11-03  2016-17 NBA Regular Season   \n",
       "1  L2M-SAC-CHI-01-21-17  SAC  CHI 2017-01-21  2016-17 NBA Regular Season   \n",
       "\n",
       "   away_score  home_score winner  \n",
       "0       102.0        99.0    DEN  \n",
       "1        99.0       102.0    CHI  "
      ]
     },
     "execution_count": 8,
     "metadata": {},
     "output_type": "execute_result"
    }
   ],
   "source": [
    "reports = pd.read_sql(\"SELECT * FROM reports\", conn, parse_dates=['date'])\n",
    "reports.replace({'away':{'PHO': 'PHX'}})\n",
    "print reports.dtypes, '\\r'\n",
    "reports.head(2)"
   ]
  },
  {
   "cell_type": "code",
   "execution_count": 9,
   "metadata": {
    "collapsed": false
   },
   "outputs": [
    {
     "name": "stdout",
     "output_type": "stream",
     "text": [
      "report                object\n",
      "period                object\n",
      "time                  object\n",
      "call                  object\n",
      "committing            object\n",
      "disadvantaged         object\n",
      "decision              object\n",
      "committing_team       object\n",
      "disadvantaged_team    object\n",
      "dtype: object \r\n"
     ]
    },
    {
     "data": {
      "text/html": [
       "<div>\n",
       "<table border=\"1\" class=\"dataframe\">\n",
       "  <thead>\n",
       "    <tr style=\"text-align: right;\">\n",
       "      <th></th>\n",
       "      <th>report</th>\n",
       "      <th>period</th>\n",
       "      <th>time</th>\n",
       "      <th>call</th>\n",
       "      <th>committing</th>\n",
       "      <th>disadvantaged</th>\n",
       "      <th>decision</th>\n",
       "      <th>committing_team</th>\n",
       "      <th>disadvantaged_team</th>\n",
       "    </tr>\n",
       "  </thead>\n",
       "  <tbody>\n",
       "    <tr>\n",
       "      <th>0</th>\n",
       "      <td>L2M-DEN-MIN-11-03-16</td>\n",
       "      <td>Q4</td>\n",
       "      <td></td>\n",
       "      <td>Foul: Shooting</td>\n",
       "      <td>Karl-Anthony Towns</td>\n",
       "      <td>Emmanuel Mudiay</td>\n",
       "      <td>CC</td>\n",
       "      <td>MIN</td>\n",
       "      <td>DEN</td>\n",
       "    </tr>\n",
       "    <tr>\n",
       "      <th>1</th>\n",
       "      <td>L2M-DEN-MIN-11-03-16</td>\n",
       "      <td>Q4</td>\n",
       "      <td></td>\n",
       "      <td>Foul: Offensive</td>\n",
       "      <td>Karl-Anthony Towns</td>\n",
       "      <td>Danilo Gallinari</td>\n",
       "      <td>CNC</td>\n",
       "      <td>MIN</td>\n",
       "      <td>DEN</td>\n",
       "    </tr>\n",
       "  </tbody>\n",
       "</table>\n",
       "</div>"
      ],
      "text/plain": [
       "                 report period time             call          committing  \\\n",
       "0  L2M-DEN-MIN-11-03-16     Q4        Foul: Shooting  Karl-Anthony Towns   \n",
       "1  L2M-DEN-MIN-11-03-16     Q4       Foul: Offensive  Karl-Anthony Towns   \n",
       "\n",
       "      disadvantaged decision committing_team disadvantaged_team  \n",
       "0   Emmanuel Mudiay       CC             MIN                DEN  \n",
       "1  Danilo Gallinari      CNC             MIN                DEN  "
      ]
     },
     "execution_count": 9,
     "metadata": {},
     "output_type": "execute_result"
    }
   ],
   "source": [
    "calls = pd.read_sql(\"SELECT * FROM calls\", conn)\n",
    "print calls.dtypes, '\\r'\n",
    "calls.head(2)"
   ]
  },
  {
   "cell_type": "code",
   "execution_count": 11,
   "metadata": {
    "collapsed": false
   },
   "outputs": [
    {
     "name": "stdout",
     "output_type": "stream",
     "text": [
      "963\n",
      "15625\n"
     ]
    }
   ],
   "source": [
    "print len(reports)\n",
    "print len(calls)"
   ]
  },
  {
   "cell_type": "code",
   "execution_count": null,
   "metadata": {
    "collapsed": true
   },
   "outputs": [],
   "source": []
  }
 ],
 "metadata": {
  "kernelspec": {
   "display_name": "Python 2",
   "language": "python",
   "name": "python2"
  },
  "language_info": {
   "codemirror_mode": {
    "name": "ipython",
    "version": 2
   },
   "file_extension": ".py",
   "mimetype": "text/x-python",
   "name": "python",
   "nbconvert_exporter": "python",
   "pygments_lexer": "ipython2",
   "version": "2.7.12"
  }
 },
 "nbformat": 4,
 "nbformat_minor": 2
}
